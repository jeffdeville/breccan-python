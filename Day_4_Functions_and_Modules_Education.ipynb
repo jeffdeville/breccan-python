{
 "cells": [
  {
   "cell_type": "markdown",
   "id": "5e7d93a2",
   "metadata": {},
   "source": [
    "# Day 4: Functions and Modules"
   ]
  },
  {
   "cell_type": "markdown",
   "id": "804008fe",
   "metadata": {},
   "source": [
    "## Objective\n",
    "Learn how to write functions and use modules."
   ]
  },
  {
   "cell_type": "markdown",
   "id": "89833fba",
   "metadata": {},
   "source": [
    "## Functions\n",
    "Functions are blocks of code that perform a specific task. They can take inputs, process them, and return outputs."
   ]
  },
  {
   "cell_type": "code",
   "execution_count": null,
   "id": "3cf8dea3",
   "metadata": {},
   "outputs": [],
   "source": [
    "# Example:\n",
    "def greet(name):\n",
    "    return f\"Hello, {name}!\"\n",
    "\n",
    "print(greet(\"Jeff\"))  # Output: Hello, Jeff!"
   ]
  },
  {
   "cell_type": "markdown",
   "id": "39331db8",
   "metadata": {},
   "source": [
    "### Exercise 1: Functions\n",
    "Write a function that takes two numbers as inputs and returns their sum."
   ]
  },
  {
   "cell_type": "code",
   "execution_count": null,
   "id": "c427ab70",
   "metadata": {},
   "outputs": [],
   "source": [
    "# Your code here"
   ]
  },
  {
   "cell_type": "markdown",
   "id": "2529e0e1",
   "metadata": {},
   "source": [
    "## Modules\n",
    "Modules are files containing Python code that can be imported and used in other Python programs."
   ]
  },
  {
   "cell_type": "code",
   "execution_count": null,
   "id": "a426b0d8",
   "metadata": {},
   "outputs": [],
   "source": [
    "# Example:\n",
    "import math\n",
    "\n",
    "print(math.sqrt(16))  # Output: 4.0"
   ]
  },
  {
   "cell_type": "markdown",
   "id": "59f727d4",
   "metadata": {},
   "source": [
    "### Exercise 2: Modules\n",
    "Write a program that uses the `random` module to generate a random number between 1 and 10."
   ]
  },
  {
   "cell_type": "code",
   "execution_count": null,
   "id": "9cce0bf0",
   "metadata": {},
   "outputs": [],
   "source": [
    "# Your code here"
   ]
  }
 ],
 "metadata": {},
 "nbformat": 4,
 "nbformat_minor": 5
}
