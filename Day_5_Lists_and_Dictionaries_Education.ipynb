{
 "cells": [
  {
   "cell_type": "markdown",
   "id": "756bbba8",
   "metadata": {},
   "source": [
    "# Day 5: Working with Lists and Dictionaries"
   ]
  },
  {
   "cell_type": "markdown",
   "id": "f5d70616",
   "metadata": {},
   "source": [
    "## Objective\n",
    "Learn how to use lists and dictionaries to store and manage data."
   ]
  },
  {
   "cell_type": "markdown",
   "id": "fde77d01",
   "metadata": {},
   "source": [
    "## Lists\n",
    "Lists are used to store multiple items in a single variable. They are ordered and changeable."
   ]
  },
  {
   "cell_type": "code",
   "execution_count": null,
   "id": "b93f2387",
   "metadata": {},
   "outputs": [],
   "source": [
    "# Example:\n",
    "fruits = [\"apple\", \"banana\", \"cherry\"]\n",
    "print(fruits)  # Output: ['apple', 'banana', 'cherry']"
   ]
  },
  {
   "cell_type": "markdown",
   "id": "2d72c5b7",
   "metadata": {},
   "source": [
    "### Exercise 1: Lists\n",
    "Create a list of your favorite hobbies and print each hobby using a loop."
   ]
  },
  {
   "cell_type": "code",
   "execution_count": null,
   "id": "5a6b8566",
   "metadata": {},
   "outputs": [],
   "source": [
    "# Your code here"
   ]
  },
  {
   "cell_type": "markdown",
   "id": "245236b0",
   "metadata": {},
   "source": [
    "## Dictionaries\n",
    "Dictionaries are used to store data values in key:value pairs. They are unordered, changeable, and indexed."
   ]
  },
  {
   "cell_type": "code",
   "execution_count": null,
   "id": "8ee8070d",
   "metadata": {},
   "outputs": [],
   "source": [
    "# Example:\n",
    "person = {\"name\": \"Jeff\", \"age\": 30, \"city\": \"New York\"}\n",
    "print(person)  # Output: {'name': 'Jeff', 'age': 30, 'city': 'New York'}"
   ]
  },
  {
   "cell_type": "markdown",
   "id": "2eae86c2",
   "metadata": {},
   "source": [
    "### Exercise 2: Dictionaries\n",
    "Create a dictionary to store information about a book (title, author, year) and print each key-value pair using a loop."
   ]
  },
  {
   "cell_type": "code",
   "execution_count": null,
   "id": "500651d9",
   "metadata": {},
   "outputs": [],
   "source": [
    "# Your code here"
   ]
  }
 ],
 "metadata": {},
 "nbformat": 4,
 "nbformat_minor": 5
}
