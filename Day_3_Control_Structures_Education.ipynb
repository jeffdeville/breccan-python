{
 "cells": [
  {
   "cell_type": "markdown",
   "id": "e3047c4a",
   "metadata": {},
   "source": [
    "# Day 3: Control Structures"
   ]
  },
  {
   "cell_type": "markdown",
   "id": "856292f6",
   "metadata": {},
   "source": [
    "## Objective\n",
    "Understand how to use control structures to manage the flow of the program."
   ]
  },
  {
   "cell_type": "markdown",
   "id": "dee1e4bf",
   "metadata": {},
   "source": [
    "## If-Else Statements\n",
    "Control the flow of your program by executing certain code only if a condition is met."
   ]
  },
  {
   "cell_type": "code",
   "execution_count": null,
   "id": "40828385",
   "metadata": {},
   "outputs": [],
   "source": [
    "# Example:\n",
    "x = 10\n",
    "if x > 5:\n",
    "    print(\"x is greater than 5\")\n",
    "else:\n",
    "    print(\"x is not greater than 5\")"
   ]
  },
  {
   "cell_type": "markdown",
   "id": "2285f581",
   "metadata": {},
   "source": [
    "## For Loops\n",
    "Use loops to repeat a block of code multiple times."
   ]
  },
  {
   "cell_type": "code",
   "execution_count": null,
   "id": "c5740edf",
   "metadata": {},
   "outputs": [],
   "source": [
    "# Example:\n",
    "for i in range(5):\n",
    "    print(\"Iteration\", i)"
   ]
  },
  {
   "cell_type": "markdown",
   "id": "50976d65",
   "metadata": {},
   "source": [
    "## While Loops\n",
    "Use while loops to repeat a block of code as long as a condition is true."
   ]
  },
  {
   "cell_type": "code",
   "execution_count": null,
   "id": "227cef99",
   "metadata": {},
   "outputs": [],
   "source": [
    "# Example:\n",
    "count = 0\n",
    "while count < 5:\n",
    "    print(\"Count is\", count)\n",
    "    count += 1"
   ]
  },
  {
   "cell_type": "markdown",
   "id": "48c3c884",
   "metadata": {},
   "source": [
    "### Exercise 1: If-Else Statements\n",
    "Write a program that checks if a number is positive, negative, or zero."
   ]
  },
  {
   "cell_type": "code",
   "execution_count": null,
   "id": "4e1614cd",
   "metadata": {},
   "outputs": [],
   "source": [
    "# Your code here"
   ]
  },
  {
   "cell_type": "markdown",
   "id": "e947d5ed",
   "metadata": {},
   "source": [
    "### Exercise 2: For Loops\n",
    "Write a program that prints the first 10 numbers in a list."
   ]
  },
  {
   "cell_type": "code",
   "execution_count": null,
   "id": "01724a1d",
   "metadata": {},
   "outputs": [],
   "source": [
    "# Your code here"
   ]
  },
  {
   "cell_type": "markdown",
   "id": "f8c782e2",
   "metadata": {},
   "source": [
    "### Exercise 3: While Loops\n",
    "Write a program that keeps asking the user for input until they type 'exit'."
   ]
  },
  {
   "cell_type": "code",
   "execution_count": null,
   "id": "c903054f",
   "metadata": {},
   "outputs": [],
   "source": [
    "# Your code here"
   ]
  }
 ],
 "metadata": {},
 "nbformat": 4,
 "nbformat_minor": 5
}
