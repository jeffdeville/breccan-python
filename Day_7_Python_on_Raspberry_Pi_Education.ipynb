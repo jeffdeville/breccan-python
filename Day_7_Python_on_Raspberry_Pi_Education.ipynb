{
 "cells": [
  {
   "cell_type": "markdown",
   "id": "dcf74d04",
   "metadata": {},
   "source": [
    "# Day 7: Python on Raspberry Pi"
   ]
  },
  {
   "cell_type": "markdown",
   "id": "8b835b9e",
   "metadata": {},
   "source": [
    "## Objective\n",
    "Learn how to run Python scripts on Raspberry Pi."
   ]
  },
  {
   "cell_type": "markdown",
   "id": "0bebfa47",
   "metadata": {},
   "source": [
    "## Writing Python Scripts\n",
    "Create a Python script on your Raspberry Pi and run it."
   ]
  },
  {
   "cell_type": "markdown",
   "id": "54b89254",
   "metadata": {},
   "source": [
    "### Example: Blinking an LED"
   ]
  },
  {
   "cell_type": "markdown",
   "id": "3ad4c2c5",
   "metadata": {},
   "source": [
    "Connect an LED to your Raspberry Pi using a GPIO pin. Use a resistor to prevent damage to the LED."
   ]
  },
  {
   "cell_type": "code",
   "execution_count": null,
   "id": "5b08d113",
   "metadata": {},
   "outputs": [],
   "source": [
    "# Code to blink an LED\n",
    "import RPi.GPIO as GPIO\n",
    "import time\n",
    "\n",
    "# Set up GPIO\n",
    "GPIO.setmode(GPIO.BCM)\n",
    "GPIO.setwarnings(False)\n",
    "LED_PIN = 18\n",
    "GPIO.setup(LED_PIN, GPIO.OUT)\n",
    "\n",
    "# Blink LED\n",
    "while True:\n",
    "    GPIO.output(LED_PIN, GPIO.HIGH)\n",
    "    time.sleep(1)\n",
    "    GPIO.output(LED_PIN, GPIO.LOW)\n",
    "    time.sleep(1)"
   ]
  },
  {
   "cell_type": "markdown",
   "id": "eed56e4e",
   "metadata": {},
   "source": [
    "### Running the Program\n",
    "Save your file and run it in the terminal using the command `sudo python3 filename.py`. You should see the LED blink on and off."
   ]
  },
  {
   "cell_type": "markdown",
   "id": "2380cbcc",
   "metadata": {},
   "source": [
    "## Simple Exercise\n",
    "Write a Python script to blink an LED three times with a 2-second interval between each blink."
   ]
  },
  {
   "cell_type": "code",
   "execution_count": null,
   "id": "60508a25",
   "metadata": {},
   "outputs": [],
   "source": [
    "# Your code here"
   ]
  }
 ],
 "metadata": {},
 "nbformat": 4,
 "nbformat_minor": 5
}
