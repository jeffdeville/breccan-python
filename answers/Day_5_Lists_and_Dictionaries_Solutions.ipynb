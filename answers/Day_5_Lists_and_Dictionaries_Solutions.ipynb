{
 "cells": [
  {
   "cell_type": "markdown",
   "id": "eb55bdec",
   "metadata": {},
   "source": [
    "### Solutions to Exercises"
   ]
  },
  {
   "cell_type": "markdown",
   "id": "612014e8",
   "metadata": {},
   "source": [
    "### Solution 1: Lists\n",
    "Create a list of your favorite hobbies and print each hobby using a loop."
   ]
  },
  {
   "cell_type": "code",
   "execution_count": null,
   "id": "8c7aa7e2",
   "metadata": {},
   "outputs": [],
   "source": [
    "hobbies = [\"coding\", \"reading\", \"biking\"]\n",
    "for hobby in hobbies:\n",
    "    print(hobby)"
   ]
  },
  {
   "cell_type": "markdown",
   "id": "7a085a9b",
   "metadata": {},
   "source": [
    "### Solution 2: Dictionaries\n",
    "Create a dictionary to store information about a book (title, author, year) and print each key-value pair using a loop."
   ]
  },
  {
   "cell_type": "code",
   "execution_count": null,
   "id": "c6842fe1",
   "metadata": {},
   "outputs": [],
   "source": [
    "book = {\"title\": \"1984\", \"author\": \"George Orwell\", \"year\": 1949}\n",
    "for key, value in book.items():\n",
    "    print(f\"{key}: {value}\")"
   ]
  }
 ],
 "metadata": {},
 "nbformat": 4,
 "nbformat_minor": 5
}
