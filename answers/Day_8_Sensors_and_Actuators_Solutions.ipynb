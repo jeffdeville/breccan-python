{
 "cells": [
  {
   "cell_type": "markdown",
   "id": "2be6afae",
   "metadata": {},
   "source": [
    "### Solutions to Exercises"
   ]
  },
  {
   "cell_type": "markdown",
   "id": "59d5373f",
   "metadata": {},
   "source": [
    "### Solution 1: Simple Exercise\n",
    "Write a Python script to read temperature data from a DHT11 sensor and turn on an LED if the temperature exceeds 25°C."
   ]
  },
  {
   "cell_type": "code",
   "execution_count": null,
   "id": "9022382e",
   "metadata": {},
   "outputs": [],
   "source": [
    "import Adafruit_DHT\n",
    "import RPi.GPIO as GPIO\n",
    "\n",
    "# Sensor setup\n",
    "DHT_SENSOR = Adafruit_DHT.DHT11\n",
    "DHT_PIN = 4\n",
    "\n",
    "# LED setup\n",
    "LED_PIN = 18\n",
    "GPIO.setmode(GPIO.BCM)\n",
    "GPIO.setwarnings(False)\n",
    "GPIO.setup(LED_PIN, GPIO.OUT)\n",
    "\n",
    "# Read temperature and humidity\n",
    "humidity, temperature = Adafruit_DHT.read(DHT_SENSOR, DHT_PIN)\n",
    "if humidity is not None and temperature is not None:\n",
    "    print(f\"Temp={temperature}C  Humidity={humidity}%\")\n",
    "    if temperature > 25:\n",
    "        GPIO.output(LED_PIN, GPIO.HIGH)\n",
    "    else:\n",
    "        GPIO.output(LED_PIN, GPIO.LOW)\n",
    "else:\n",
    "    print(\"Failed to retrieve data from sensor\")\n",
    "\n",
    "# Cleanup\n",
    "GPIO.cleanup()"
   ]
  }
 ],
 "metadata": {},
 "nbformat": 4,
 "nbformat_minor": 5
}
