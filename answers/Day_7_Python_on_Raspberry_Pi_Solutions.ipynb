{
 "cells": [
  {
   "cell_type": "markdown",
   "id": "97e9bc73",
   "metadata": {},
   "source": [
    "### Solutions to Exercises"
   ]
  },
  {
   "cell_type": "markdown",
   "id": "28752326",
   "metadata": {},
   "source": [
    "### Solution 1: Simple Exercise\n",
    "Write a Python script to blink an LED three times with a 2-second interval between each blink."
   ]
  },
  {
   "cell_type": "code",
   "execution_count": null,
   "id": "4f94c892",
   "metadata": {},
   "outputs": [],
   "source": [
    "import RPi.GPIO as GPIO\n",
    "import time\n",
    "\n",
    "# Set up GPIO\n",
    "GPIO.setmode(GPIO.BCM)\n",
    "GPIO.setwarnings(False)\n",
    "LED_PIN = 18\n",
    "GPIO.setup(LED_PIN, GPIO.OUT)\n",
    "\n",
    "# Blink LED three times\n",
    "for _ in range(3):\n",
    "    GPIO.output(LED_PIN, GPIO.HIGH)\n",
    "    time.sleep(2)\n",
    "    GPIO.output(LED_PIN, GPIO.LOW)\n",
    "    time.sleep(2)"
   ]
  }
 ],
 "metadata": {},
 "nbformat": 4,
 "nbformat_minor": 5
}
