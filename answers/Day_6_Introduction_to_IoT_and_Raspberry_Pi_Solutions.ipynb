{
 "cells": [
  {
   "cell_type": "markdown",
   "id": "b1d5b3c1",
   "metadata": {},
   "source": [
    "### Solutions to Exercises"
   ]
  },
  {
   "cell_type": "markdown",
   "id": "39460f45",
   "metadata": {},
   "source": [
    "### Solution 1: Simple Exercise\n",
    "Write a Python program on your Raspberry Pi that prints your name and your favorite IoT device."
   ]
  },
  {
   "cell_type": "code",
   "execution_count": null,
   "id": "9a220905",
   "metadata": {},
   "outputs": [],
   "source": [
    "print(\"My name is Jeff.\")\n",
    "print(\"My favorite IoT device is the Raspberry Pi.\")"
   ]
  }
 ],
 "metadata": {},
 "nbformat": 4,
 "nbformat_minor": 5
}
