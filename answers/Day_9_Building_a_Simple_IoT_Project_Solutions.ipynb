{
 "cells": [
  {
   "cell_type": "markdown",
   "id": "c0cc2e5b",
   "metadata": {},
   "source": [
    "### Solutions to Exercises"
   ]
  },
  {
   "cell_type": "markdown",
   "id": "c95248ef",
   "metadata": {},
   "source": [
    "### Solution 1: Simple Exercise\n",
    "Modify the script to log data only if the temperature exceeds 25°C."
   ]
  },
  {
   "cell_type": "code",
   "execution_count": null,
   "id": "0637c97d",
   "metadata": {},
   "outputs": [],
   "source": [
    "import Adafruit_DHT\n",
    "import time\n",
    "\n",
    "# Sensor setup\n",
    "DHT_SENSOR = Adafruit_DHT.DHT11\n",
    "DHT_PIN = 4\n",
    "\n",
    "# Function to read sensor data\n",
    "def read_sensor():\n",
    "    humidity, temperature = Adafruit_DHT.read(DHT_SENSOR, DHT_PIN)\n",
    "    if humidity is not None and temperature is not None:\n",
    "        return temperature, humidity\n",
    "    else:\n",
    "        return None, None\n",
    "\n",
    "# Function to log data to a file\n",
    "def log_data(temperature, humidity):\n",
    "    with open(\"temperature_log.txt\", \"a\") as file:\n",
    "        file.write(f\"Temp={temperature}C  Humidity={humidity}%\\n\")\n",
    "\n",
    "# Main loop\n",
    "while True:\n",
    "    temp, hum = read_sensor()\n",
    "    if temp is not None and hum is not None:\n",
    "        if temp > 25:\n",
    "            log_data(temp, hum)\n",
    "    time.sleep(60)  # Log data every 60 seconds"
   ]
  }
 ],
 "metadata": {},
 "nbformat": 4,
 "nbformat_minor": 5
}
