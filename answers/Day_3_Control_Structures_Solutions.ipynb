{
 "cells": [
  {
   "cell_type": "markdown",
   "id": "4c1d4aca",
   "metadata": {},
   "source": [
    "### Solutions to Exercises"
   ]
  },
  {
   "cell_type": "markdown",
   "id": "44a8e286",
   "metadata": {},
   "source": [
    "### Solution 1: If-Else Statements\n",
    "Write a program that checks if a number is positive, negative, or zero."
   ]
  },
  {
   "cell_type": "code",
   "execution_count": null,
   "id": "a4cd80cf",
   "metadata": {},
   "outputs": [],
   "source": [
    "number = 10\n",
    "if number > 0:\n",
    "    print(\"The number is positive\")\n",
    "elif number < 0:\n",
    "    print(\"The number is negative\")\n",
    "else:\n",
    "    print(\"The number is zero\")"
   ]
  },
  {
   "cell_type": "markdown",
   "id": "1b8cc2b3",
   "metadata": {},
   "source": [
    "### Solution 2: For Loops\n",
    "Write a program that prints the first 10 numbers in a list."
   ]
  },
  {
   "cell_type": "code",
   "execution_count": null,
   "id": "0650086c",
   "metadata": {},
   "outputs": [],
   "source": [
    "for i in range(10):\n",
    "    print(i)"
   ]
  },
  {
   "cell_type": "markdown",
   "id": "be6837d2",
   "metadata": {},
   "source": [
    "### Solution 3: While Loops\n",
    "Write a program that keeps asking the user for input until they type 'exit'."
   ]
  },
  {
   "cell_type": "code",
   "execution_count": null,
   "id": "a6cef889",
   "metadata": {},
   "outputs": [],
   "source": [
    "while True:\n",
    "    user_input = input(\"Type something (or 'exit' to quit): \")\n",
    "    if user_input == 'exit':\n",
    "        break\n",
    "    print(\"You typed:\", user_input)"
   ]
  }
 ],
 "metadata": {},
 "nbformat": 4,
 "nbformat_minor": 5
}
