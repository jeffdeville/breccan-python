{
 "cells": [
  {
   "cell_type": "markdown",
   "id": "3c22c01c",
   "metadata": {},
   "source": [
    "### Solutions to Exercises"
   ]
  },
  {
   "cell_type": "markdown",
   "id": "e07238fd",
   "metadata": {},
   "source": [
    "### Solution 1: Functions\n",
    "Write a function that takes two numbers as inputs and returns their sum."
   ]
  },
  {
   "cell_type": "code",
   "execution_count": null,
   "id": "9e719dec",
   "metadata": {},
   "outputs": [],
   "source": [
    "def add(a, b):\n",
    "    return a + b\n",
    "\n",
    "print(add(3, 5))  # Output: 8"
   ]
  },
  {
   "cell_type": "markdown",
   "id": "55b5e71e",
   "metadata": {},
   "source": [
    "### Solution 2: Modules\n",
    "Write a program that uses the `random` module to generate a random number between 1 and 10."
   ]
  },
  {
   "cell_type": "code",
   "execution_count": null,
   "id": "37de5c0b",
   "metadata": {},
   "outputs": [],
   "source": [
    "import random\n",
    "\n",
    "print(random.randint(1, 10))"
   ]
  }
 ],
 "metadata": {},
 "nbformat": 4,
 "nbformat_minor": 5
}
