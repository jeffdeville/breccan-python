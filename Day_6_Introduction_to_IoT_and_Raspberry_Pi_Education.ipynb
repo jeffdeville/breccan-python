{
 "cells": [
  {
   "cell_type": "markdown",
   "id": "9838accd",
   "metadata": {},
   "source": [
    "# Day 6: Introduction to IoT and Raspberry Pi"
   ]
  },
  {
   "cell_type": "markdown",
   "id": "0dba51b2",
   "metadata": {},
   "source": [
    "## Objective\n",
    "Understand the basics of IoT and set up a Raspberry Pi."
   ]
  },
  {
   "cell_type": "markdown",
   "id": "73f838d5",
   "metadata": {},
   "source": [
    "## What is IoT?\n",
    "The Internet of Things (IoT) refers to the network of physical objects embedded with sensors, software, and other technologies to connect and exchange data with other devices and systems over the internet."
   ]
  },
  {
   "cell_type": "markdown",
   "id": "940cafed",
   "metadata": {},
   "source": [
    "## Setting Up Raspberry Pi\n",
    "Follow these steps to set up your Raspberry Pi:\n",
    "1. Connect the Raspberry Pi to a monitor, keyboard, and mouse.\n",
    "2. Insert the SD card with Raspbian OS installed.\n",
    "3. Connect the power supply to boot up the Raspberry Pi.\n",
    "4. Follow the on-screen instructions to complete the setup."
   ]
  },
  {
   "cell_type": "markdown",
   "id": "5d4d5b73",
   "metadata": {},
   "source": [
    "### Writing Your First Python Program on Raspberry Pi\n",
    "Open the terminal and create a new Python file with a `.py` extension. Type the following code to print a message to the screen:"
   ]
  },
  {
   "cell_type": "code",
   "execution_count": null,
   "id": "7074a733",
   "metadata": {},
   "outputs": [],
   "source": [
    "print(\"Hello, Raspberry Pi!\")"
   ]
  },
  {
   "cell_type": "markdown",
   "id": "80c53a79",
   "metadata": {},
   "source": [
    "### Running the Program\n",
    "Save your file and run it in the terminal using the command `python3 filename.py`. You should see the message `Hello, Raspberry Pi!` printed to the screen."
   ]
  },
  {
   "cell_type": "markdown",
   "id": "16b71bda",
   "metadata": {},
   "source": [
    "## Simple Exercise\n",
    "Write a Python program on your Raspberry Pi that prints your name and your favorite IoT device."
   ]
  },
  {
   "cell_type": "code",
   "execution_count": null,
   "id": "c3b0f72f",
   "metadata": {},
   "outputs": [],
   "source": [
    "# Your code here"
   ]
  }
 ],
 "metadata": {},
 "nbformat": 4,
 "nbformat_minor": 5
}
