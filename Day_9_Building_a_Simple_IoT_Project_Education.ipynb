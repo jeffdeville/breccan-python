{
 "cells": [
  {
   "cell_type": "markdown",
   "id": "4694261c",
   "metadata": {},
   "source": [
    "# Day 9: Building a Simple IoT Project"
   ]
  },
  {
   "cell_type": "markdown",
   "id": "03acab52",
   "metadata": {},
   "source": [
    "## Objective\n",
    "Combine Python programming and IoT concepts to build a simple project."
   ]
  },
  {
   "cell_type": "markdown",
   "id": "5d947dcf",
   "metadata": {},
   "source": [
    "## Project: Temperature Monitoring System"
   ]
  },
  {
   "cell_type": "markdown",
   "id": "bfa2d5ea",
   "metadata": {},
   "source": [
    "In this project, you will create a temperature monitoring system using a Raspberry Pi and a DHT11 sensor. The system will read temperature data and log it to a file."
   ]
  },
  {
   "cell_type": "markdown",
   "id": "b55bcc74",
   "metadata": {},
   "source": [
    "### Step 1: Setting Up the Sensor\n",
    "Connect the DHT11 sensor to your Raspberry Pi."
   ]
  },
  {
   "cell_type": "markdown",
   "id": "d852d270",
   "metadata": {},
   "source": [
    "### Step 2: Writing the Python Script\n",
    "Create a Python script to read temperature data from the sensor and log it to a file."
   ]
  },
  {
   "cell_type": "code",
   "execution_count": null,
   "id": "b1f1ba6e",
   "metadata": {},
   "outputs": [],
   "source": [
    "import Adafruit_DHT\n",
    "import time\n",
    "\n",
    "# Sensor setup\n",
    "DHT_SENSOR = Adafruit_DHT.DHT11\n",
    "DHT_PIN = 4\n",
    "\n",
    "# Function to read sensor data\n",
    "def read_sensor():\n",
    "    humidity, temperature = Adafruit_DHT.read(DHT_SENSOR, DHT_PIN)\n",
    "    if humidity is not None and temperature is not None:\n",
    "        return temperature, humidity\n",
    "    else:\n",
    "        return None, None\n",
    "\n",
    "# Function to log data to a file\n",
    "def log_data(temperature, humidity):\n",
    "    with open(\"temperature_log.txt\", \"a\") as file:\n",
    "        file.write(f\"Temp={temperature}C  Humidity={humidity}%\\n\")\n",
    "\n",
    "# Main loop\n",
    "while True:\n",
    "    temp, hum = read_sensor()\n",
    "    if temp is not None and hum is not None:\n",
    "        log_data(temp, hum)\n",
    "    time.sleep(60)  # Log data every 60 seconds"
   ]
  },
  {
   "cell_type": "markdown",
   "id": "3e63ab71",
   "metadata": {},
   "source": [
    "### Step 3: Running the Program\n",
    "Save your file and run it in the terminal using the command `python3 filename.py`. The temperature data should be logged to `temperature_log.txt` every minute."
   ]
  },
  {
   "cell_type": "markdown",
   "id": "27cc45db",
   "metadata": {},
   "source": [
    "## Simple Exercise\n",
    "Modify the script to log data only if the temperature exceeds 25°C."
   ]
  },
  {
   "cell_type": "code",
   "execution_count": null,
   "id": "be250657",
   "metadata": {},
   "outputs": [],
   "source": [
    "# Your code here"
   ]
  }
 ],
 "metadata": {},
 "nbformat": 4,
 "nbformat_minor": 5
}
