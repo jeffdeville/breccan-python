{
 "cells": [
  {
   "cell_type": "markdown",
   "id": "fca7dd78",
   "metadata": {},
   "source": [
    "# Day 8: Sensors and Actuators"
   ]
  },
  {
   "cell_type": "markdown",
   "id": "f1b4bfa7",
   "metadata": {},
   "source": [
    "## Objective\n",
    "Understand how to connect and use sensors and actuators with Raspberry Pi."
   ]
  },
  {
   "cell_type": "markdown",
   "id": "9949ebbf",
   "metadata": {},
   "source": [
    "## Sensors\n",
    "Sensors are devices that detect and respond to changes in the environment. Examples include temperature sensors, light sensors, and motion sensors."
   ]
  },
  {
   "cell_type": "markdown",
   "id": "92fd4841",
   "metadata": {},
   "source": [
    "### Example: Reading Temperature Data\n",
    "Connect a DHT11 temperature sensor to your Raspberry Pi and read data from it."
   ]
  },
  {
   "cell_type": "code",
   "execution_count": null,
   "id": "f0d5af4c",
   "metadata": {},
   "outputs": [],
   "source": [
    "# Code to read from a DHT11 sensor\n",
    "import Adafruit_DHT\n",
    "\n",
    "# Sensor setup\n",
    "DHT_SENSOR = Adafruit_DHT.DHT11\n",
    "DHT_PIN = 4\n",
    "\n",
    "# Read temperature and humidity\n",
    "humidity, temperature = Adafruit_DHT.read(DHT_SENSOR, DHT_PIN)\n",
    "if humidity is not None and temperature is not None:\n",
    "    print(f\"Temp={temperature}C  Humidity={humidity}%\")\n",
    "else:\n",
    "    print(\"Failed to retrieve data from sensor\")"
   ]
  },
  {
   "cell_type": "markdown",
   "id": "df256ec1",
   "metadata": {},
   "source": [
    "## Actuators\n",
    "Actuators are devices that perform actions in response to a control signal. Examples include motors, LEDs, and buzzers."
   ]
  },
  {
   "cell_type": "markdown",
   "id": "7fc357d7",
   "metadata": {},
   "source": [
    "### Example: Controlling a Servo Motor\n",
    "Connect a servo motor to your Raspberry Pi and control its position."
   ]
  },
  {
   "cell_type": "code",
   "execution_count": null,
   "id": "6b27f504",
   "metadata": {},
   "outputs": [],
   "source": [
    "# Code to control a servo motor\n",
    "import RPi.GPIO as GPIO\n",
    "import time\n",
    "\n",
    "# Servo setup\n",
    "GPIO.setmode(GPIO.BCM)\n",
    "GPIO.setwarnings(False)\n",
    "SERVO_PIN = 17\n",
    "GPIO.setup(SERVO_PIN, GPIO.OUT)\n",
    "pwm = GPIO.PWM(SERVO_PIN, 50)  # 50Hz\n",
    "pwm.start(0)\n",
    "\n",
    "# Function to set servo angle\n",
    "def set_angle(angle):\n",
    "    duty = angle / 18 + 2\n",
    "    GPIO.output(SERVO_PIN, True)\n",
    "    pwm.ChangeDutyCycle(duty)\n",
    "    time.sleep(1)\n",
    "    GPIO.output(SERVO_PIN, False)\n",
    "    pwm.ChangeDutyCycle(0)\n",
    "\n",
    "# Set servo to 90 degrees\n",
    "set_angle(90)\n",
    "\n",
    "# Cleanup\n",
    "pwm.stop()\n",
    "GPIO.cleanup()"
   ]
  },
  {
   "cell_type": "markdown",
   "id": "72f92428",
   "metadata": {},
   "source": [
    "## Simple Exercise\n",
    "Write a Python script to read temperature data from a DHT11 sensor and turn on an LED if the temperature exceeds 25°C."
   ]
  },
  {
   "cell_type": "code",
   "execution_count": null,
   "id": "1419e79a",
   "metadata": {},
   "outputs": [],
   "source": [
    "# Your code here"
   ]
  }
 ],
 "metadata": {},
 "nbformat": 4,
 "nbformat_minor": 5
}
